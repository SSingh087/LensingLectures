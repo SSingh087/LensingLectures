{
 "cells": [
  {
   "cell_type": "markdown",
   "metadata": {},
   "source": [
    "# Python tutorial\n",
    "\n",
    "## Installation\n",
    "\n",
    "The codes discussed as part of these lectures have been developed and run using Anaconda python 2.7 by Continuum analytics. This is just one of the python distributions available for free and we expect that the codes proposed here should run without problems with any of them.\n",
    "\n",
    "If the reader opts for the Anaconda distribution, she/he can download the installer, which is available for Windows, Mac OSX, and Linux platforms, from https://www.continuum.io/downloads}{https://www.continuum.io/downloads.\n",
    "\n",
    "Following the installation instructions, python should be ready for usage within few minutes.\n",
    "\n",
    "## Documentation\n",
    "\n",
    "There are many resources online and books to learn how to program in python. The list below is just a starting point and does not want to be complete: \n",
    "\n",
    "* the online official documentation can be found at this url: http://www.python.org/doc;\n",
    "* several platforms for e-learning propose courses to learn python. For example, Codeacademy offers [https://www.codecademy.com/learn/python](an excellent course), which can be completed in only 13 hours;\n",
    "* Google also offers a [https://developers.google.com/edu/python/?csw=1](python class) online;\n",
    "* a more extensive (and practical) guide to python is given by [https://learnpythonthehardway.org/book/][Learn python the hard way]\n",
    "\n",
    "## Run python\n",
    "\n",
    "Python can be run in several ways:\n",
    "\n",
    "* from the interactive interpreter: launch ```python``` in a shell. Quit with Ctrl+D or type ```exit()``` when finished.\n",
    "* create your own script with an extension ```.py``` and run it in a shell by typing python ```scriptname.py```\n",
    "* use an Interactive Development Environment (IDE). These are software which include an editor for coding and capabilities for executing the code. There are several options available (e.g. spyder, Rodeo, etc.)\n",
    "*  We recommend to become familiar with [http://jupyter-notebook-beginner-guide.readthedocs.io/en/latest/what_is_jupyter.html](jupyter notebook), which is increasingly popular among python users for sharing code and ideas.\n",
    "\n",
    "## Your first python code\n",
    "\n",
    "Try running the code:"
   ]
  },
  {
   "cell_type": "code",
   "execution_count": 2,
   "metadata": {
    "collapsed": false
   },
   "outputs": [
    {
     "name": "stdout",
     "output_type": "stream",
     "text": [
      "Hello World!\n"
     ]
    }
   ],
   "source": [
    "# your first python code -- this is a comment\n",
    "print (\"Hello World!\")"
   ]
  },
  {
   "cell_type": "markdown",
   "metadata": {},
   "source": [
    "Congratulations! You have run your first python code!"
   ]
  },
  {
   "cell_type": "markdown",
   "metadata": {},
   "source": [
    "## Variables\n",
    "\n",
    "Variables are names poinint to values or objects. Setting them in python is extremely easy, and you don't need to declare them before:"
   ]
  },
  {
   "cell_type": "code",
   "execution_count": 3,
   "metadata": {
    "collapsed": false
   },
   "outputs": [],
   "source": [
    "int_var = 4\n",
    "float_var = 7.89778\n",
    "boolean_var = True\n",
    "string_var = \"My name is Python\"\n",
    "#obj_var=some_class_name(par1,par2) # this won't work yet, because the class some_class_name does not exist yet"
   ]
  },
  {
   "cell_type": "markdown",
   "metadata": {},
   "source": [
    "## Strings\n",
    "\n",
    "String constants can be defined in three ways:"
   ]
  },
  {
   "cell_type": "code",
   "execution_count": 4,
   "metadata": {
    "collapsed": false
   },
   "outputs": [
    {
     "name": "stdout",
     "output_type": "stream",
     "text": [
      "my name is Python \n",
      "and this is  a multiline  string.\n"
     ]
    }
   ],
   "source": [
    "single_quotes = 'my name is Python'\n",
    "double_quotes = \"my name is Python\"\n",
    "triple_quotes = \"\"\"my name is Python \n",
    "and this is  a multiline  string.\"\"\" #This can contain line breaks!\n",
    "\n",
    "print (triple_quotes)"
   ]
  },
  {
   "cell_type": "markdown",
   "metadata": {},
   "source": [
    "Note that you can combine single and double quotes when you want to define strings which contain quotes themselves:"
   ]
  },
  {
   "cell_type": "code",
   "execution_count": 5,
   "metadata": {
    "collapsed": false
   },
   "outputs": [
    {
     "name": "stdout",
     "output_type": "stream",
     "text": [
      "my name is \"Python\"\n",
      "don't\n"
     ]
    }
   ],
   "source": [
    "double_quotes1 = 'my name is \"Python\"'\n",
    "double_quotes2 = \"don't\"\n",
    "\n",
    "print (double_quotes1)\n",
    "print (double_quotes2)\n"
   ]
  },
  {
   "cell_type": "markdown",
   "metadata": {},
   "source": [
    "Otherwise you have to use backslashes:"
   ]
  },
  {
   "cell_type": "code",
   "execution_count": 6,
   "metadata": {
    "collapsed": false
   },
   "outputs": [
    {
     "name": "stdout",
     "output_type": "stream",
     "text": [
      "don't\n"
     ]
    }
   ],
   "source": [
    "double_quotes3 = 'don\\'t'\n",
    "print (double_quotes3)"
   ]
  },
  {
   "cell_type": "markdown",
   "metadata": {},
   "source": [
    "Strings can me sliced: "
   ]
  },
  {
   "cell_type": "code",
   "execution_count": 7,
   "metadata": {
    "collapsed": false
   },
   "outputs": [
    {
     "name": "stdout",
     "output_type": "stream",
     "text": [
      "Massimo Meneghetti\n",
      "Massimo\n",
      "Meneghetti\n",
      "imo\n"
     ]
    }
   ],
   "source": [
    "my_name='Massimo Meneghetti'\n",
    "name = my_name[:7]\n",
    "surname = my_name[8:]\n",
    "a_piece_of_my_name=my_name[4:7]\n",
    "\n",
    "print (my_name)\n",
    "print (name)\n",
    "print (surname)\n",
    "print (a_piece_of_my_name)"
   ]
  },
  {
   "cell_type": "markdown",
   "metadata": {},
   "source": [
    "You can make many operations with strings. These are objects and have many methods. Check out this url to learn more: [https://docs.python.org/2/library/stdtypes.html](https://docs.python.org/2/library/stdtypes.html)\n",
    "\n",
    "Some examples:"
   ]
  },
  {
   "cell_type": "code",
   "execution_count": 8,
   "metadata": {
    "collapsed": false
   },
   "outputs": [
    {
     "name": "stdout",
     "output_type": "stream",
     "text": [
      "Massimo Meneghetti\n"
     ]
    }
   ],
   "source": [
    "# string concatenation:\n",
    "back_to_my_full_name=name+\" \"+surname\n",
    "\n",
    "print (back_to_my_full_name)"
   ]
  },
  {
   "cell_type": "markdown",
   "metadata": {},
   "source": [
    "which can be achieved also by typing"
   ]
  },
  {
   "cell_type": "code",
   "execution_count": 9,
   "metadata": {
    "collapsed": false
   },
   "outputs": [
    {
     "name": "stdout",
     "output_type": "stream",
     "text": [
      "Massimo Meneghetti\n"
     ]
    }
   ],
   "source": [
    "back_to_my_full_name = '%s %s' % (name, surname)\n",
    "print (back_to_my_full_name)"
   ]
  },
  {
   "cell_type": "code",
   "execution_count": 10,
   "metadata": {
    "collapsed": false
   },
   "outputs": [
    {
     "name": "stdout",
     "output_type": "stream",
     "text": [
      "MASSIMO MENEGHETTI\n"
     ]
    }
   ],
   "source": [
    "# Convert to uppercase:\n",
    "\n",
    "my_name_uppercase=back_to_my_full_name.upper()\n",
    "\n",
    "print (my_name_uppercase)"
   ]
  },
  {
   "cell_type": "markdown",
   "metadata": {},
   "source": [
    "The built-in function str converts numbers to strings:"
   ]
  },
  {
   "cell_type": "code",
   "execution_count": 11,
   "metadata": {
    "collapsed": false
   },
   "outputs": [
    {
     "name": "stdout",
     "output_type": "stream",
     "text": [
      "2\n",
      "2.0\n"
     ]
    }
   ],
   "source": [
    "my_int=2\n",
    "my_float=2.0\n",
    "str_int=str(my_int)\n",
    "str_float=str(my_float)\n",
    "\n",
    "print (str_int)\n",
    "print (str_float)"
   ]
  },
  {
   "cell_type": "markdown",
   "metadata": {},
   "source": [
    "Another way to include numbers in strings:"
   ]
  },
  {
   "cell_type": "code",
   "execution_count": 12,
   "metadata": {
    "collapsed": false
   },
   "outputs": [
    {
     "name": "stdout",
     "output_type": "stream",
     "text": [
      "My integer is 2.\n",
      "My float is 2.000000.\n",
      "My float is 2.0 (with only one decimal)\n"
     ]
    }
   ],
   "source": [
    "my_string1 = 'My integer is %d.' % my_int \n",
    "my_string2 = 'My float is %f.' % my_float\n",
    "my_string3 = 'My float is %3.1f (with only one decimal)' % my_float\n",
    "\n",
    "print (my_string1)\n",
    "print (my_string2)\n",
    "print (my_string3)"
   ]
  },
  {
   "cell_type": "markdown",
   "metadata": {},
   "source": [
    "With several variables, we need to use parentheses:"
   ]
  },
  {
   "cell_type": "code",
   "execution_count": 13,
   "metadata": {
    "collapsed": false
   },
   "outputs": [
    {
     "name": "stdout",
     "output_type": "stream",
     "text": [
      "2 + 67 = 69\n",
      "2 + 67.30 =  69.3\n"
     ]
    }
   ],
   "source": [
    "a = 2\n",
    "b = 67\n",
    "my_string4 = '%d + %d = %d' % (a, b, a+b)\n",
    "print (my_string4)\n",
    "\n",
    "a = 2\n",
    "b = 67.3\n",
    "my_string5 = '%d + %5.2f = %5.1f' % (a, b, a+b)\n",
    "print (my_string5)"
   ]
  },
  {
   "cell_type": "markdown",
   "metadata": {},
   "source": [
    "Not only you can convert numbers to string, but you can do the reverse operation:"
   ]
  },
  {
   "cell_type": "code",
   "execution_count": 14,
   "metadata": {
    "collapsed": false
   },
   "outputs": [
    {
     "name": "stdout",
     "output_type": "stream",
     "text": [
      "23 23\n",
      "<type 'str'> <type 'int'>\n"
     ]
    }
   ],
   "source": [
    "s = '23'\n",
    "i = int(s)\n",
    "\n",
    "print s, i\n",
    "print type(s), type(i)"
   ]
  },
  {
   "cell_type": "code",
   "execution_count": 15,
   "metadata": {
    "collapsed": false
   },
   "outputs": [
    {
     "name": "stdout",
     "output_type": "stream",
     "text": [
      "23 23.0\n",
      "<type 'str'> <type 'float'>\n"
     ]
    }
   ],
   "source": [
    "s = '23'\n",
    "i = float(s)\n",
    "\n",
    "print s, i\n",
    "print type(s), type(i)"
   ]
  },
  {
   "cell_type": "markdown",
   "metadata": {},
   "source": [
    "## Lists\n",
    "\n",
    "A list is a dynamic array of any objects.\n",
    "It is declared with square brackets:"
   ]
  },
  {
   "cell_type": "code",
   "execution_count": 16,
   "metadata": {
    "collapsed": true
   },
   "outputs": [],
   "source": [
    "a_list = [1, 2, 3, 'abc', 'def']"
   ]
  },
  {
   "cell_type": "markdown",
   "metadata": {},
   "source": [
    "Lists may contain lists:"
   ]
  },
  {
   "cell_type": "code",
   "execution_count": 17,
   "metadata": {
    "collapsed": true
   },
   "outputs": [],
   "source": [
    "another_list = [a_list, 'abc', a_list, [1, 2, 3]]"
   ]
  },
  {
   "cell_type": "markdown",
   "metadata": {},
   "source": [
    "Note that ${\\tt a_{list}}$ in this case is a pointer.\n",
    "Access a specific element by index (index starts at zero):"
   ]
  },
  {
   "cell_type": "code",
   "execution_count": 18,
   "metadata": {
    "collapsed": true
   },
   "outputs": [],
   "source": [
    "elem = a_list[2]\n",
    "elem2 = another_list[3][1]"
   ]
  },
  {
   "cell_type": "markdown",
   "metadata": {},
   "source": [
    "It's easy to test if an item is in the list:"
   ]
  },
  {
   "cell_type": "code",
   "execution_count": 19,
   "metadata": {
    "collapsed": false
   },
   "outputs": [
    {
     "name": "stdout",
     "output_type": "stream",
     "text": [
      "bingo!\n"
     ]
    }
   ],
   "source": [
    "if 'abc' in a_list:\n",
    "    print 'bingo!'"
   ]
  },
  {
   "cell_type": "markdown",
   "metadata": {},
   "source": [
    "Extracting a part of a list is called slicing:"
   ]
  },
  {
   "cell_type": "code",
   "execution_count": 20,
   "metadata": {
    "collapsed": true
   },
   "outputs": [],
   "source": [
    "list2 = a_list[2:4] # returns a list with items 2 and 3 (not 4)"
   ]
  },
  {
   "cell_type": "markdown",
   "metadata": {},
   "source": [
    "Other list operations like appending:"
   ]
  },
  {
   "cell_type": "code",
   "execution_count": 21,
   "metadata": {
    "collapsed": false
   },
   "outputs": [],
   "source": [
    "a_list.append('ghi')\n",
    "a_list.remove('abc')"
   ]
  },
  {
   "cell_type": "markdown",
   "metadata": {},
   "source": [
    "Other list operations: [http://docs.python.org/lib/typesseq.html](http://docs.python.org/lib/typesseq.html)"
   ]
  },
  {
   "cell_type": "markdown",
   "metadata": {},
   "source": [
    "## Tuples\n",
    "\n",
    "A tuple is similar to a list but it is a fixed-size, immutable array. This means that once a tuple has been created, its elements may not be changed, removed, appended or inserted.\n",
    "\n",
    "It is declared using parentheses and comma-separated values:"
   ]
  },
  {
   "cell_type": "code",
   "execution_count": 22,
   "metadata": {
    "collapsed": true
   },
   "outputs": [],
   "source": [
    "a_tuple = (1, 2, 3, 'abc', 'def')"
   ]
  },
  {
   "cell_type": "markdown",
   "metadata": {},
   "source": [
    "but parentheses are optional:"
   ]
  },
  {
   "cell_type": "code",
   "execution_count": 23,
   "metadata": {
    "collapsed": true
   },
   "outputs": [],
   "source": [
    "another_tuple = 1, 2, 3, 'abc', 'def'"
   ]
  },
  {
   "cell_type": "markdown",
   "metadata": {},
   "source": [
    "Tip: a tuple containing only one item must be declared using a comma, else it is not considered as a tuple:"
   ]
  },
  {
   "cell_type": "code",
   "execution_count": 24,
   "metadata": {
    "collapsed": false
   },
   "outputs": [],
   "source": [
    "a_single_item_tuple = ('one value',) "
   ]
  },
  {
   "cell_type": "markdown",
   "metadata": {},
   "source": [
    "Tuples are not constant lists -- this is a common misconception. Lists are intended to be homogeneous sequences, while tuples are hetereogeneous data structures.\n",
    "\n",
    "In some sense, tuples may be regarded as simplified structures, in which position has semantic value [e.g. (name,surname,age,height,weight)] and not an order. For this reason they are immutable, contrary to lists."
   ]
  },
  {
   "cell_type": "markdown",
   "metadata": {},
   "source": [
    "## Dictionaries\n",
    "A Dictionary (or \"dict\") is a way to store data just like a tuples, but instead of using only numbers to get the data, you can use almost anything. This lets you treat a dict like it's a database for storing and organizing data.\n",
    "\n",
    "Dictionaries are initialized using curl brackets:"
   ]
  },
  {
   "cell_type": "code",
   "execution_count": 25,
   "metadata": {
    "collapsed": true
   },
   "outputs": [],
   "source": [
    "person = {'name': 'Massimo', 'surname': 'Meneghetti', 'age': 39, 'height': 1.74}"
   ]
  },
  {
   "cell_type": "markdown",
   "metadata": {},
   "source": [
    "You can access the elements of the dictionary by using the entry keys:"
   ]
  },
  {
   "cell_type": "code",
   "execution_count": 26,
   "metadata": {
    "collapsed": false
   },
   "outputs": [
    {
     "data": {
      "text/plain": [
       "'Massimo'"
      ]
     },
     "execution_count": 26,
     "metadata": {},
     "output_type": "execute_result"
    }
   ],
   "source": [
    "person['name']"
   ]
  },
  {
   "cell_type": "markdown",
   "metadata": {},
   "source": [
    "The keys can also be numbers:"
   ]
  },
  {
   "cell_type": "code",
   "execution_count": 27,
   "metadata": {
    "collapsed": false
   },
   "outputs": [
    {
     "data": {
      "text/plain": [
       "'new data'"
      ]
     },
     "execution_count": 27,
     "metadata": {},
     "output_type": "execute_result"
    }
   ],
   "source": [
    "person = {'name': 'Massimo', 'surname': 'Meneghetti', 'age': 39, 'height': 1.74, 1: 'new data'}\n",
    "person[1]"
   ]
  },
  {
   "cell_type": "markdown",
   "metadata": {},
   "source": [
    "# Blocks and indentation\n",
    "\n",
    "Blocks of code are delimited using indentation, either spaces or tabs at the beginning of lines. This will become clearer in the next sections, when loops will be introduced.\n",
    "\n",
    "Tip: NEVER mix tabs and spaces in a script, as this could generate bugs that are very difficult to be found."
   ]
  },
  {
   "cell_type": "markdown",
   "metadata": {},
   "source": [
    "## IF/ELIF/ELSE\n",
    "\n",
    "Here is an example of how to implement an IF/ELIF/ELSE loop:"
   ]
  },
  {
   "cell_type": "code",
   "execution_count": 28,
   "metadata": {
    "collapsed": false
   },
   "outputs": [
    {
     "name": "stdout",
     "output_type": "stream",
     "text": [
      "The value of a is:\n",
      "a=3\n",
      "a!=\"test\"\n",
      "condition 1\n"
     ]
    }
   ],
   "source": [
    "a=3\n",
    "b=4\n",
    "\n",
    "if a == 3:\n",
    "    print 'The value of a is:'\n",
    "    print 'a=3'\n",
    " \n",
    "if a == 'test':\n",
    "    print 'The value of a is:'\n",
    "    print 'a=\"test\"'\n",
    "    test_mode = True\n",
    "else:\n",
    "    print 'a!=\"test\"'\n",
    "    test_mode = False\n",
    " \n",
    "if a == 1 or a == 2:\n",
    "    pass # do nothing\n",
    "elif a == 3 and b > 1:\n",
    "    print \"condition 1\"\n",
    "elif a==3 and not b>1:\n",
    "    print 'condition 2'\n",
    "else:\n",
    "    pass"
   ]
  },
  {
   "cell_type": "markdown",
   "metadata": {},
   "source": [
    "## WHILE loops"
   ]
  },
  {
   "cell_type": "code",
   "execution_count": 29,
   "metadata": {
    "collapsed": false
   },
   "outputs": [
    {
     "name": "stdout",
     "output_type": "stream",
     "text": [
      "1\n",
      "2\n",
      "3\n",
      "4\n",
      "5\n",
      "6\n",
      "7\n",
      "8\n",
      "9\n"
     ]
    }
   ],
   "source": [
    "a=1\n",
    "while a<10:\n",
    "    print a\n",
    "    a += 1"
   ]
  },
  {
   "cell_type": "markdown",
   "metadata": {},
   "source": [
    "## FOR Loops"
   ]
  },
  {
   "cell_type": "code",
   "execution_count": 30,
   "metadata": {
    "collapsed": false
   },
   "outputs": [
    {
     "name": "stdout",
     "output_type": "stream",
     "text": [
      "0\n",
      "1\n",
      "2\n",
      "3\n",
      "4\n",
      "5\n",
      "6\n",
      "7\n",
      "8\n",
      "9\n",
      "2\n",
      "4\n",
      "8\n",
      "16\n",
      "32\n"
     ]
    }
   ],
   "source": [
    "for a in range(10):\n",
    "    print a\n",
    " \n",
    "my_list = [2, 4, 8, 16, 32]\n",
    "for a in my_list:\n",
    "    print a"
   ]
  },
  {
   "cell_type": "markdown",
   "metadata": {},
   "source": [
    "## Functions\n",
    "Functions can be defined in python as follows:"
   ]
  },
  {
   "cell_type": "code",
   "execution_count": 31,
   "metadata": {
    "collapsed": true
   },
   "outputs": [],
   "source": [
    "def compute_sum(arg1,arg2):\n",
    "    # implement function to calculate the sum of two numbers\n",
    "    res=arg1+arg2\n",
    "    return(res)  "
   ]
  },
  {
   "cell_type": "markdown",
   "metadata": {},
   "source": [
    "The function can be called by typing the function name. If the function returns a value or object, this is assigned to a variable as follows:"
   ]
  },
  {
   "cell_type": "code",
   "execution_count": 32,
   "metadata": {
    "collapsed": false
   },
   "outputs": [
    {
     "name": "stdout",
     "output_type": "stream",
     "text": [
      "10.0\n"
     ]
    }
   ],
   "source": [
    "summa=compute_sum(3.0,7.0)\n",
    "print summa"
   ]
  },
  {
   "cell_type": "markdown",
   "metadata": {},
   "source": [
    "Otherwise, the function can just be called without setting it equal to any variable."
   ]
  },
  {
   "cell_type": "code",
   "execution_count": 33,
   "metadata": {
    "collapsed": false
   },
   "outputs": [
    {
     "name": "stdout",
     "output_type": "stream",
     "text": [
      "3\n",
      "10\n"
     ]
    }
   ],
   "source": [
    "c=3\n",
    "print c\n",
    "\n",
    "def change_global_c(val):\n",
    "    global c\n",
    "    c=val\n",
    "\n",
    "change_global_c(10)\n",
    "\n",
    "print c\n",
    "    "
   ]
  },
  {
   "cell_type": "markdown",
   "metadata": {},
   "source": [
    "## Classes\n",
    "\n",
    "Classes are a way to group a set of functions inside a container. These can be accessed using the . operator. The main purpose of classes is to define objects of a certain type and the corresponding methods. For example, we may want to define a class called 'square', containing the methods to compute the square properties, such as the perimeter and the area. The object is initialized by means of a ``constructor'':"
   ]
  },
  {
   "cell_type": "code",
   "execution_count": 34,
   "metadata": {
    "collapsed": true
   },
   "outputs": [],
   "source": [
    "class square:\n",
    "    \n",
    "    #the constructor:\n",
    "    def __init__(self,side):\n",
    "        self.side=side\n",
    "        \n",
    "    #area of the square:\n",
    "    def area(self):\n",
    "        return(self.side*self.side)\n",
    "        \n",
    "    #perimeter of the square:\n",
    "    def perimeter(self):\n",
    "        return(4.0*self.side)"
   ]
  },
  {
   "cell_type": "markdown",
   "metadata": {},
   "source": [
    "We can then use the class to define a square object:"
   ]
  },
  {
   "cell_type": "code",
   "execution_count": 35,
   "metadata": {
    "collapsed": false
   },
   "outputs": [
    {
     "name": "stdout",
     "output_type": "stream",
     "text": [
      "9.0\n",
      "12.0\n"
     ]
    }
   ],
   "source": [
    "s=square(3.0) # a square with side length 3\n",
    "print s.area()\n",
    "print s.perimeter()"
   ]
  },
  {
   "cell_type": "markdown",
   "metadata": {},
   "source": [
    "As in other languages (e.g. C++), python supports inheritance. A class can be used as an argument for another class. In this case the new class will inherit the methods of the parent class. For example:"
   ]
  },
  {
   "cell_type": "code",
   "execution_count": 36,
   "metadata": {
    "collapsed": false
   },
   "outputs": [
    {
     "name": "stdout",
     "output_type": "stream",
     "text": [
      "this is a square\n",
      "this is a circle\n"
     ]
    }
   ],
   "source": [
    "class geometrical_figure(object):\n",
    "    \n",
    "    def __init__(self,name):\n",
    "        self.name=name\n",
    "        \n",
    "    def getName(self):\n",
    "        print 'this is a %s' % self.name\n",
    "    \n",
    "class square(geometrical_figure):\n",
    "    \n",
    "    #the constructor:\n",
    "    def __init__(self,side):\n",
    "        geometrical_figure.__init__(self,'square')\n",
    "        self.side=side\n",
    "        \n",
    "    #area of the square:\n",
    "    def area(self):\n",
    "        return(self.side*self.side)\n",
    "        \n",
    "    #perimeter of the square:\n",
    "    def perimeter(self):\n",
    "        return(4.0*self.side)\n",
    "    \n",
    "class circle(geometrical_figure):\n",
    "    \n",
    "    #the constructor:\n",
    "    def __init__(self,radius):\n",
    "        geometrical_figure.__init__(self,'circle')\n",
    "        self.radius=radius\n",
    "        \n",
    "    #area of the square:\n",
    "    def area(self):\n",
    "        return(3.141592653*self.radius**2)\n",
    "        \n",
    "    #perimeter of the square:\n",
    "    def perimeter(self):\n",
    "        return(2.0*self.radius*3.141592653)\n",
    "    \n",
    "    \n",
    "s=square(3.0)\n",
    "c=circle(3.0)\n",
    "s.getName()\n",
    "c.getName()"
   ]
  },
  {
   "cell_type": "markdown",
   "metadata": {},
   "source": [
    "In the example above, ```square``` and ```circle``` are two examples of ```geometricalFigure```. They have some specialized methods to compute the area and the perimeter, but both can access the method ```getName```, which belongs to ```geometricalFigure```, because they have inherited it from the parent class."
   ]
  },
  {
   "cell_type": "markdown",
   "metadata": {},
   "source": [
    "## Modules\n",
    "\n",
    "A module is a file containing Python definitions and statements (constants, functions, classes, etc). The file name is the module name with the suffix .py appended.\n",
    "\n",
    "Modules can be imported in another script by using the ```import``` statement:"
   ]
  },
  {
   "cell_type": "code",
   "execution_count": 37,
   "metadata": {
    "collapsed": false
   },
   "outputs": [
    {
     "ename": "ImportError",
     "evalue": "No module named modulename",
     "output_type": "error",
     "traceback": [
      "\u001b[0;31m---------------------------------------------------------------------------\u001b[0m",
      "\u001b[0;31mImportError\u001b[0m                               Traceback (most recent call last)",
      "\u001b[0;32m<ipython-input-37-55e2e5c3ed37>\u001b[0m in \u001b[0;36m<module>\u001b[0;34m()\u001b[0m\n\u001b[0;32m----> 1\u001b[0;31m \u001b[0;32mimport\u001b[0m \u001b[0mmodulename\u001b[0m \u001b[0;31m# this won't work because the module modulename.py does not exist\u001b[0m\u001b[0;34m\u001b[0m\u001b[0m\n\u001b[0m",
      "\u001b[0;31mImportError\u001b[0m: No module named modulename"
     ]
    }
   ],
   "source": [
    "import modulename # this won't work because the module modulename.py does not exist"
   ]
  },
  {
   "cell_type": "markdown",
   "metadata": {},
   "source": [
    "The functions and statements contained in the module can be accessed using the . operator.\n",
    "\n",
    "Modules can import other modules. It is customary but not required to place all import statements at the beginning of a module (or script, for that matter). \n",
    "\n",
    "There is a variant of the import statement that imports names from a module directly into the importing module’s symbol table. For example:"
   ]
  },
  {
   "cell_type": "code",
   "execution_count": 38,
   "metadata": {
    "collapsed": false
   },
   "outputs": [
    {
     "ename": "ImportError",
     "evalue": "No module named modulename",
     "output_type": "error",
     "traceback": [
      "\u001b[0;31m---------------------------------------------------------------------------\u001b[0m",
      "\u001b[0;31mImportError\u001b[0m                               Traceback (most recent call last)",
      "\u001b[0;32m<ipython-input-38-4ca3f6813865>\u001b[0m in \u001b[0;36m<module>\u001b[0;34m()\u001b[0m\n\u001b[0;32m----> 1\u001b[0;31m \u001b[0;32mfrom\u001b[0m \u001b[0mmodulename\u001b[0m \u001b[0;32mimport\u001b[0m \u001b[0msomething\u001b[0m \u001b[0;31m# this won't work because the module modulename.py does not exist\u001b[0m\u001b[0;34m\u001b[0m\u001b[0m\n\u001b[0m",
      "\u001b[0;31mImportError\u001b[0m: No module named modulename"
     ]
    }
   ],
   "source": [
    "from modulename import something # this won't work because the module modulename.py does not exist"
   ]
  },
  {
   "cell_type": "markdown",
   "metadata": {},
   "source": [
    "## Importing packages\n",
    "Packages can be added to your python distribution by using either the  {\\tt pip} or {\\tt easy\\_install} utilities. Anaconda has its own utility for installing a (limited) set of supported packages, called {\\tt conda}. To learn more, check out [https://packaging.python.org/installing/](https://packaging.python.org/installing/).\n",
    "\n",
    "Packages can be used by importing modules and classes in the code as discussed above.\n",
    "\n",
    "Some packages that we will use a lot:\n",
    "\n",
    "* numpy\n",
    "* scipy\n",
    "* matplotlib\n",
    "* astropy\n",
    "\n",
    "Other packages will be introduced in the examples.\n"
   ]
  },
  {
   "cell_type": "markdown",
   "metadata": {},
   "source": [
    "# Deflection of a photon by a Black Hole\n",
    "\n",
    "We want to implement the formula\n",
    "$$\n",
    "\\hat\\alpha=-\\pi+4\\frac{G}{c^2}\\sqrt{R_m/s}F(\\varphi,m)\n",
    "$$\n",
    "with\n",
    "\\begin{eqnarray}\n",
    "s&=&\\sqrt{(R_m-2M)(R_m+6M)} \\\\\n",
    "m&=&(s-R_m+6M)/2s \\\\\n",
    "\\varphi &=& \\arcsin{\\sqrt{2s/(3R_m-6M+s)}}\n",
    "\\end{eqnarray}\n",
    "\n",
    "We also need to remind that \n",
    "$$\n",
    "u^2=\\frac{C(R_m)}{A(R_m)}\n",
    "$$\n",
    "\n",
    "We will compare the resulting deflection angle to \n",
    "$$\n",
    "\\hat\\alpha=\\frac{4GM}{c^2u}\n",
    "$$\n",
    "\n",
    "\n",
    "We start by importing some useful packages"
   ]
  },
  {
   "cell_type": "code",
   "execution_count": 39,
   "metadata": {
    "collapsed": false
   },
   "outputs": [],
   "source": [
    "# need special functions for incomplete elliptic integrals of the first kind\n",
    "from scipy import special as sy \n",
    "# efficient vector and matrix operations\n",
    "import numpy as np \n",
    "# Provides a MATLAB-like plotting framework.\n",
    "import matplotlib.pyplot as plt \n",
    "# only needed in jupyter notebooks\n",
    "%matplotlib inline "
   ]
  },
  {
   "cell_type": "markdown",
   "metadata": {},
   "source": [
    "We will need some special function from scipy in order to compute the elliptic integral of the first kind. See https://docs.scipy.org/doc/scipy/reference/special.html"
   ]
  },
  {
   "cell_type": "code",
   "execution_count": 41,
   "metadata": {
    "collapsed": false
   },
   "outputs": [
    {
     "data": {
      "image/png": "[encoded data removed]",
      "text/plain": [
       "<matplotlib.figure.Figure at 0x10982e350>"
      ]
     },
     "metadata": {},
     "output_type": "display_data"
    }
   ],
   "source": [
    "# our goal is to produce a graph. Let's setup the fonts and the character size\n",
    "font = {'family' : 'normal',\n",
    "        'weight' : 'normal',\n",
    "        'size'   : 20}\n",
    "\n",
    "import matplotlib\n",
    "matplotlib.rc('font', **font)\n",
    "\n",
    "# build a class for BH objects\n",
    "class point_bh:\n",
    "    \n",
    "    def __init__(self,M):\n",
    "        self.M=M\n",
    "    \n",
    "    # functions which define the metric. We need only A(r) and C(r) to compute u from rm\n",
    "    def A(self,r):\n",
    "        return(1.0-2.0*self.M/r)\n",
    "    \n",
    "    def B(self,r):\n",
    "        return (self.A(r)**(-1))\n",
    "    \n",
    "    def C(self,r):\n",
    "        return(r**2)\n",
    "    \n",
    "    # compute u from rm\n",
    "    def u(self,r):\n",
    "        u=np.sqrt(self.C(r)/self.A(r))\n",
    "        return(u)\n",
    "    \n",
    "    # functions concurring to the deflection angle calculation\n",
    "    def ss(self,r):\n",
    "        return(np.sqrt((r-2.0*self.M)*(r+6.0*self.M)))\n",
    "    \n",
    "    def mm(self,r,s):\n",
    "        return((s-r+6.0*self.M)/2/s)\n",
    "    \n",
    "    def phif(self,r,s):\n",
    "        return(np.arcsin(np.sqrt(2.0*s/(3.0*r-6.0*self.M+s))))\n",
    "    \n",
    "    # the deflection angle\n",
    "    def defAngle(self,r):\n",
    "        s=self.ss(r)\n",
    "        m=self.mm(r,s)\n",
    "        phi=self.phif(r,s)\n",
    "        F=sy.ellipkinc(phi, m) ## using the ellipkinc function from scipy.special\n",
    "        return(-np.pi+4.0*np.sqrt(r/s)*F)\n",
    "\n",
    "# build a class for point mass lenses implementing the results in the weak field limit    \n",
    "class point_mass:\n",
    "    \n",
    "    def __init__(self,M):\n",
    "        self.M=M\n",
    "    \n",
    "    # the classical formula\n",
    "    def defAngle(self,u):\n",
    "        return(4.0*self.M/u)\n",
    "    \n",
    "\n",
    "# construct a BH and a PM objects. The mass is fixed to 3 Msun (Rs=9km)\n",
    "bh=point_bh(3.0)\n",
    "pm=point_mass(3.0)\n",
    "\n",
    "# initialize rm and compute u\n",
    "r=np.linspace(3.0/2.0,10,1000)*2.0*bh.M\n",
    "u=bh.u(r)/2.0/bh.M\n",
    "\n",
    "# compute the deflection angles for the two lenses\n",
    "a=bh.defAngle(r)\n",
    "b=pm.defAngle(u*2.0*bh.M)\n",
    "\n",
    "# plot the results\n",
    "fig,ax=plt.subplots(1,1,figsize=(15,8)) # Create a figure and a set of subplots (1x1 subplots). \n",
    "                                        # Specify the size (in inches)\n",
    "ax.plot(u,a,'-',label='exact solution') # plot the curve for the exact solution in ax\n",
    "ax.plot(u,b,'--',label='weak field limit',color='red') # plot the curve for the weak field limit in ax\n",
    "ax.set_xlabel(r'$u$ $[2GM/c^2]$') # set label on the x-axis\n",
    "ax.set_ylabel(r'$\\hat\\alpha(u)$ [radians]') # set label on the y-axis\n",
    "ax.legend() # display the legend\n",
    "\n",
    "# plot a vertical dotted line at u=3\\sqrt(3)/2M\n",
    "x=[np.min(u),np.min(u)]\n",
    "y=[0,10]\n",
    "ax.plot(x,y,':')\n",
    "\n",
    "# save figure in png format\n",
    "fig.savefig('bhalpha.png')"
   ]
  },
  {
   "cell_type": "code",
   "execution_count": null,
   "metadata": {
    "collapsed": true
   },
   "outputs": [],
   "source": []
  },
  {
   "cell_type": "code",
   "execution_count": null,
   "metadata": {
    "collapsed": true
   },
   "outputs": [],
   "source": []
  },
  {
   "cell_type": "code",
   "execution_count": null,
   "metadata": {
    "collapsed": true
   },
   "outputs": [],
   "source": []
  },
  {
   "cell_type": "code",
   "execution_count": null,
   "metadata": {
    "collapsed": true
   },
   "outputs": [],
   "source": []
  }
 ],
 "metadata": {
  "kernelspec": {
   "display_name": "Python 2",
   "language": "python",
   "name": "python2"
  },
  "language_info": {
   "codemirror_mode": {
    "name": "ipython",
    "version": 2
   },
   "file_extension": ".py",
   "mimetype": "text/x-python",
   "name": "python",
   "nbconvert_exporter": "python",
   "pygments_lexer": "ipython2",
   "version": "2.7.11"
  }
 },
 "nbformat": 4,
 "nbformat_minor": 0
}
