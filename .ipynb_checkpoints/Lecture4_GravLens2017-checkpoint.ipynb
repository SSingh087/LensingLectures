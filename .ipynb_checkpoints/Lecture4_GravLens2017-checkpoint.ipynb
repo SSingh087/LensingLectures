{
 "cells": [
  {
   "cell_type": "markdown",
   "metadata": {},
   "source": [
    "# Exercise: display how the angular diameter distance varies as a function of redshift\n",
    "\n",
    "## Instructions\n",
    "\n",
    "* read the astropy.cosmology tutorial: http://docs.astropy.org/en/v0.3/cosmology/index.html\n",
    "* import the module astropy.cosmology and choose a cosmological model to work with\n",
    "* import numpy and initialize a vector of redshifts\n",
    "* use the method ```anugular_diameter_distance``` to compute the distances to each redshift\n",
    "* use matplotlib.pyplot to display the graph showing the angular diameter distance as a function of z"
   ]
  },
  {
   "cell_type": "code",
   "execution_count": 23,
   "metadata": {},
   "outputs": [
    {
     "data": {
      "text/plain": [
       "FlatLambdaCDM(H0=70 km / (Mpc s), Om0=0.3, Tcmb0=2.725 K, Neff=3.04, m_nu=[ 0.  0.  0.] eV, Ob0=None)"
      ]
     },
     "execution_count": 23,
     "metadata": {},
     "output_type": "execute_result"
    }
   ],
   "source": [
    "from astropy.cosmology import FlatLambdaCDM\n",
    "cosmo = FlatLambdaCDM(H0=70, Om0=0.3)\n",
    "cosmo"
   ]
  },
  {
   "cell_type": "code",
   "execution_count": 24,
   "metadata": {},
   "outputs": [
    {
     "name": "stdout",
     "output_type": "stream",
     "text": [
      "(1000,) 0.0 10.0\n"
     ]
    }
   ],
   "source": [
    "import numpy as np\n",
    "z = np.linspace(0,10,1000)\n",
    "print z.shape, z.min(), z.max()"
   ]
  },
  {
   "cell_type": "code",
   "execution_count": 25,
   "metadata": {},
   "outputs": [
    {
     "data": {
      "text/plain": [
       "<matplotlib.text.Text at 0x10b389890>"
      ]
     },
     "execution_count": 25,
     "metadata": {},
     "output_type": "execute_result"
    },
    {
     "data": {
      "image/png": "[encoded data removed]",
      "text/plain": [
       "<matplotlib.figure.Figure at 0x10b3e9590>"
      ]
     },
     "metadata": {},
     "output_type": "display_data"
    }
   ],
   "source": [
    "Da=cosmo.angular_diameter_distance(z)\n",
    "import matplotlib.pyplot as plt\n",
    "%matplotlib inline\n",
    "\n",
    "#plot the results\n",
    "font = {'family' : 'normal',\n",
    "        'weight' : 'normal',\n",
    "        'size'   : 14}\n",
    "import matplotlib\n",
    "matplotlib.rc('font', **font)\n",
    "\n",
    "\n",
    "fig,ax=plt.subplots(1,1,figsize=(8,8))\n",
    "ax.plot(z,Da,\"-\")\n",
    "ax.set_xlabel('z')\n",
    "ax.set_ylabel('$D_a$')"
   ]
  },
  {
   "cell_type": "markdown",
   "metadata": {},
   "source": [
    "**Extra task: Compare the angular diameter distance $D_A(z_1,z_2)$ between two redshifts (e.g. $z_1=0.5$ and $z_2=2.0$) to the difference between the angular diameter distances to the two redshifts (i.e. $D_A(z_2)-D_A(z_1)$.**"
   ]
  },
  {
   "cell_type": "code",
   "execution_count": 17,
   "metadata": {},
   "outputs": [
    {
     "name": "stdout",
     "output_type": "stream",
     "text": [
      "1259.02518627 Mpc\n",
      "1726.33749961 Mpc\n",
      "1096.82490648 Mpc\n"
     ]
    }
   ],
   "source": [
    "z1=0.5\n",
    "z2=2.0\n",
    "D1=cosmo.angular_diameter_distance(z1)\n",
    "D2=cosmo.angular_diameter_distance(z2)\n",
    "D12=cosmo.angular_diameter_distance_z1z2(z1,z2)\n",
    "print D1\n",
    "print D2\n",
    "print D12"
   ]
  },
  {
   "cell_type": "markdown",
   "metadata": {},
   "source": [
    "## More exercises:\n",
    "* produce a new plot comparing the redshift dependence of the angular distance in the following cosmological models: 1) $\\Omega_m=0.3$, $\\Omega_\\Lambda=0.7$, $H_0=70$ km/s/Mpc;\n",
    "2) $\\Omega_m=0.3$, $\\Omega_\\Lambda=0.0$, $H_0=70$ km/s/Mpc;\n",
    "3) $\\Omega_m=1.0$, $\\Omega_\\Lambda=0.0$, $H_0=70$ km/s/Mpc.\n",
    "* produce a graph comparing the redshift dependence of the angular diameter and of the comoving distance for one of the models mentioned above\n",
    "* repeat the first exercise by comparing the LCDM model with $\\Omega_m=0.3$, $\\Omega_\\Lambda=0.7$, $H_0=70$ km/s/Mpc to models with constant dark energy equation of state (i.e. with equation of state parameter $w\\neq -1$). Hint: to build such models use the class ```wCDM``` instead of ```FlatLambdaCDM``` and set the ```w0``` parameter to some value like $-1.1$ or $-0.9$, $-0.8$, etc."
   ]
  }
 ],
 "metadata": {
  "kernelspec": {
   "display_name": "Python 2",
   "language": "python",
   "name": "python2"
  },
  "language_info": {
   "codemirror_mode": {
    "name": "ipython",
    "version": 2
   },
   "file_extension": ".py",
   "mimetype": "text/x-python",
   "name": "python",
   "nbconvert_exporter": "python",
   "pygments_lexer": "ipython2",
   "version": "2.7.13"
  }
 },
 "nbformat": 4,
 "nbformat_minor": 1
}
